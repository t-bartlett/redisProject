{
 "cells": [
  {
   "cell_type": "code",
   "execution_count": 1,
   "metadata": {},
   "outputs": [],
   "source": [
    "import redis"
   ]
  },
  {
   "cell_type": "code",
   "execution_count": 2,
   "metadata": {},
   "outputs": [],
   "source": [
    "r = redis.Redis(host='localhost', port=6379)"
   ]
  },
  {
   "cell_type": "code",
   "execution_count": 3,
   "metadata": {},
   "outputs": [
    {
     "data": {
      "text/plain": [
       "True"
      ]
     },
     "execution_count": 3,
     "metadata": {},
     "output_type": "execute_result"
    }
   ],
   "source": [
    "r.flushdb()"
   ]
  },
  {
   "cell_type": "code",
   "execution_count": 12,
   "metadata": {},
   "outputs": [
    {
     "data": {
      "text/plain": [
       "True"
      ]
     },
     "execution_count": 12,
     "metadata": {},
     "output_type": "execute_result"
    }
   ],
   "source": [
    "#set up the hash tables\n",
    "r.hmset(\"user1\", {\"firstName\":\"Jim\",\"lastName\":\"Halpert\",\"major\":\"math\",\"image\":\"/Users/thomasbartlett/Desktop/e-portfolio/jimPhoto.jpeg\",\"resume\":\"/Users/thomasbartlett/Desktop/e-portfolio/jimResume.docx\",\"mathPaper\":\"/Users/thomasbartlett/Desktop/e-portfolio/jimMathPaper.docx\",\"writingSample\":\"/Users/thomasbartlett/Desktop/e-portfolio/jimWritingSample.docx\",\"communityService\":\"/Users/thomasbartlett/Desktop/e-portfolio/jimCommunityService.docx\"})\n",
    "r.hmset(\"user2\", {\"firstName\":\"Dwight\",\"lastName\":\"Schrute\",\"major\":\"environmental science\",\"image\":\"/Users/thomasbartlett/Desktop/e-portfolio/dwightPhoto.jpeg\",\"resume\":\"/Users/thomasbartlett/Desktop/e-portfolio/dwightResume.docx\",\"businessPaper\":\"/Users/thomasbartlett/Desktop/e-portfolio/dwightBusinessPaper.docx\",\"writingSample\":\"/Users/thomasbartlett/Desktop/e-portfolio/dwightWritingSample.docx\",\"accomplishments\":\"/Users/thomasbartlett/Desktop/e-portfolio/dwightAccomplishments.docx\"})\n",
    "r.hmset(\"user3\", {\"firstName\":\"Oscar\",\"lastName\":\"Martinez\",\"major\":\"accounting\",\"image\":\"/Users/thomasbartlett/Desktop/e-portfolio/oscarPhoto.jpeg\",\"resume\":\"/Users/thomasbartlett/Desktop/e-portfolio/oscarResume.docx\",\"accountingPaper\":\"/Users/thomasbartlett/Desktop/e-portfolio/oscarAcountingPaper.docx\",\"accountingRecommendation\":\"/Users/thomasbartlett/Desktop/e-portfolio/oscarAccountingRecommendation.docx\"})"
   ]
  },
  {
   "cell_type": "code",
   "execution_count": 15,
   "metadata": {},
   "outputs": [
    {
     "data": {
      "text/plain": [
       "[b'lastName',\n",
       " b'resume',\n",
       " b'mathPaper',\n",
       " b'communityService',\n",
       " b'writingSample',\n",
       " b'firstName',\n",
       " b'major',\n",
       " b'image']"
      ]
     },
     "execution_count": 15,
     "metadata": {},
     "output_type": "execute_result"
    }
   ],
   "source": [
    "r.hkeys(\"user1\")"
   ]
  },
  {
   "cell_type": "code",
   "execution_count": 16,
   "metadata": {},
   "outputs": [
    {
     "data": {
      "text/plain": [
       "[b'lastName',\n",
       " b'resume',\n",
       " b'accomplishments',\n",
       " b'writingSample',\n",
       " b'businessPaper',\n",
       " b'firstName',\n",
       " b'major',\n",
       " b'image']"
      ]
     },
     "execution_count": 16,
     "metadata": {},
     "output_type": "execute_result"
    }
   ],
   "source": [
    "r.hkeys(\"user2\")"
   ]
  },
  {
   "cell_type": "code",
   "execution_count": 17,
   "metadata": {},
   "outputs": [
    {
     "data": {
      "text/plain": [
       "[b'lastName',\n",
       " b'resume',\n",
       " b'accountingRecommendation',\n",
       " b'accountingPaper',\n",
       " b'firstName',\n",
       " b'major',\n",
       " b'image']"
      ]
     },
     "execution_count": 17,
     "metadata": {},
     "output_type": "execute_result"
    }
   ],
   "source": [
    "r.hkeys(\"user3\")"
   ]
  },
  {
   "cell_type": "code",
   "execution_count": 18,
   "metadata": {},
   "outputs": [
    {
     "data": {
      "text/plain": [
       "'/Users/thomasbartlett/Desktop/e-portfolio/jimPhoto.jpeg'"
      ]
     },
     "execution_count": 18,
     "metadata": {},
     "output_type": "execute_result"
    }
   ],
   "source": [
    "#.decode gets ride of the 'b' due to it being a byte string\n",
    "image = r.hget(\"user1\",\"image\").decode('utf-8')\n",
    "image"
   ]
  },
  {
   "cell_type": "code",
   "execution_count": 20,
   "metadata": {},
   "outputs": [
    {
     "data": {
      "text/plain": [
       "1"
      ]
     },
     "execution_count": 20,
     "metadata": {},
     "output_type": "execute_result"
    }
   ],
   "source": [
    "#add a new document to user 3\n",
    "r.hset(\"user3\",\"writingSample\",\"/Users/thomasbartlett/Desktop/e-portfolio/oscarWritingSample.docx\")"
   ]
  },
  {
   "cell_type": "code",
   "execution_count": 21,
   "metadata": {},
   "outputs": [
    {
     "data": {
      "text/plain": [
       "[b'lastName',\n",
       " b'resume',\n",
       " b'accountingRecommendation',\n",
       " b'accountingPaper',\n",
       " b'writingSample',\n",
       " b'firstName',\n",
       " b'major',\n",
       " b'image']"
      ]
     },
     "execution_count": 21,
     "metadata": {},
     "output_type": "execute_result"
    }
   ],
   "source": [
    "#check to see if it added\n",
    "r.hkeys(\"user3\")"
   ]
  },
  {
   "cell_type": "code",
   "execution_count": 27,
   "metadata": {},
   "outputs": [
    {
     "data": {
      "text/plain": [
       "True"
      ]
     },
     "execution_count": 27,
     "metadata": {},
     "output_type": "execute_result"
    }
   ],
   "source": [
    "#searching\n",
    "#hexists(name, key)\n",
    "r.hexists(\"user3\",\"accountingPaper\")"
   ]
  },
  {
   "cell_type": "code",
   "execution_count": 28,
   "metadata": {},
   "outputs": [
    {
     "data": {
      "text/plain": [
       "False"
      ]
     },
     "execution_count": 28,
     "metadata": {},
     "output_type": "execute_result"
    }
   ],
   "source": [
    "#see if the accounting key exists in user3\n",
    "r.hexists(\"user3\",\"accounting\")"
   ]
  },
  {
   "cell_type": "code",
   "execution_count": 40,
   "metadata": {},
   "outputs": [
    {
     "name": "stdout",
     "output_type": "stream",
     "text": [
      "User 1 False\n",
      "User 2 False\n",
      "User 3 True\n"
     ]
    }
   ],
   "source": [
    "#search for the accounting paper in the users\n",
    "for w in range(1,4):\n",
    "    string = \"user\"+str(w)\n",
    "    print(\"User\",w,r.hexists(string,\"accountingPaper\"))"
   ]
  },
  {
   "cell_type": "code",
   "execution_count": 43,
   "metadata": {},
   "outputs": [
    {
     "name": "stdout",
     "output_type": "stream",
     "text": [
      "User 1 True\n",
      "User 2 False\n",
      "User 3 False\n"
     ]
    }
   ],
   "source": [
    "#search for the math major in the users\n",
    "#hget(name, key)\n",
    "for w in range(1,4):\n",
    "    string = \"user\"+str(w)\n",
    "    print(\"User\",w,r.hget(string,\"major\").decode('utf-8')==\"math\")"
   ]
  },
  {
   "cell_type": "code",
   "execution_count": 50,
   "metadata": {},
   "outputs": [
    {
     "name": "stdout",
     "output_type": "stream",
     "text": [
      "user1\n"
     ]
    }
   ],
   "source": [
    "#search for a key withing the math department\n",
    "for w in range(1,4):\n",
    "    string = \"user\"+str(w)\n",
    "    if r.hget(string,\"major\").decode('utf-8')==\"math\" and r.hexists(string,\"mathPaper\"):\n",
    "        print(string)        "
   ]
  },
  {
   "cell_type": "code",
   "execution_count": null,
   "metadata": {},
   "outputs": [],
   "source": []
  }
 ],
 "metadata": {
  "kernelspec": {
   "display_name": "Python 3",
   "language": "python",
   "name": "python3"
  },
  "language_info": {
   "codemirror_mode": {
    "name": "ipython",
    "version": 3
   },
   "file_extension": ".py",
   "mimetype": "text/x-python",
   "name": "python",
   "nbconvert_exporter": "python",
   "pygments_lexer": "ipython3",
   "version": "3.7.3"
  }
 },
 "nbformat": 4,
 "nbformat_minor": 2
}
